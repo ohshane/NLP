{
 "cells": [
  {
   "cell_type": "code",
   "execution_count": 59,
   "metadata": {},
   "outputs": [
    {
     "data": {
      "text/plain": [
       "[['the', 'cute'],\n",
       " ['cute', 'little'],\n",
       " ['little', 'boy'],\n",
       " ['boy', 'is'],\n",
       " ['is', 'playing'],\n",
       " ['playing', 'with'],\n",
       " ['with', 'the'],\n",
       " ['the', 'kitten']]"
      ]
     },
     "execution_count": 59,
     "metadata": {},
     "output_type": "execute_result"
    }
   ],
   "source": [
    "sentence = 'the cute little boy is playing with the kitten'\n",
    "\n",
    "def ngrams(sentence, n):\n",
    "    if type(n) is not int or n < 1:\n",
    "        raise Exception('n must be an integer greater than 1')\n",
    "\n",
    "    words = sentence.split()\n",
    "    if n > len(words):\n",
    "        raise Exception('n must be smaller than the amount of words in a sentence')\n",
    "\n",
    "    data = []\n",
    "    for i in range(len(words)-n+1):\n",
    "        data.append(words[i:i+n])\n",
    "    return data\n",
    "\n",
    "ngrams(sentence, 2)"
   ]
  },
  {
   "cell_type": "code",
   "execution_count": 60,
   "metadata": {},
   "outputs": [
    {
     "data": {
      "text/plain": [
       "[('the', 'cute'),\n",
       " ('cute', 'little'),\n",
       " ('little', 'boy'),\n",
       " ('boy', 'is'),\n",
       " ('is', 'playing'),\n",
       " ('playing', 'with'),\n",
       " ('with', 'the'),\n",
       " ('the', 'kitten')]"
      ]
     },
     "execution_count": 60,
     "metadata": {},
     "output_type": "execute_result"
    }
   ],
   "source": [
    "from nltk import ngrams\n",
    "\n",
    "sentence = 'the cute little boy is playing with the kitten'\n",
    "list(ngrams(sentence.split(), 2))"
   ]
  },
  {
   "cell_type": "code",
   "execution_count": 62,
   "metadata": {},
   "outputs": [
    {
     "data": {
      "text/plain": [
       "[1, 2, 3, 2, 3, 4]"
      ]
     },
     "execution_count": 62,
     "metadata": {},
     "output_type": "execute_result"
    }
   ],
   "source": []
  }
 ],
 "metadata": {
  "interpreter": {
   "hash": "58907fe78f63c93a3114ab5e0fdb36e51d265a83145a0a6852cc052e563a673e"
  },
  "kernelspec": {
   "display_name": "Python 3.9.7 64-bit ('base')",
   "language": "python",
   "name": "python3"
  },
  "language_info": {
   "codemirror_mode": {
    "name": "ipython",
    "version": 3
   },
   "file_extension": ".py",
   "mimetype": "text/x-python",
   "name": "python",
   "nbconvert_exporter": "python",
   "pygments_lexer": "ipython3",
   "version": "3.9.7"
  },
  "orig_nbformat": 4
 },
 "nbformat": 4,
 "nbformat_minor": 2
}
